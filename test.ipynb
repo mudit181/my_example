{
 "cells": [
  {
   "cell_type": "raw",
   "id": "8dbb1b3a",
   "metadata": {},
   "source": [
    "1.jhdfkhfjkffhlfjjkfklkfjlf;lpfkolfkrpopokpkfk\n",
    "fkdfhkjgf\n",
    "jgjknadlkgjpgoigkjhgiuhr8kjperongionopjgnkspkspjkgr\n",
    "gnkgnklgkjoprgk"
   ]
  },
  {
   "cell_type": "raw",
   "id": "cbae29ec",
   "metadata": {},
   "source": [
    "njhdfkjfjfkjhufhopFJ;FOGBHFL;KJLKJHJKLFDKJDLDKLlskhfhdfiheirgjgnbuahgnlknisj\n",
    "gnjgblg"
   ]
  },
  {
   "cell_type": "raw",
   "id": "346c6c1e",
   "metadata": {},
   "source": [
    "mmdkfjhfu to check if it is working"
   ]
  }
 ],
 "metadata": {
  "kernelspec": {
   "display_name": "Python 3 (ipykernel)",
   "language": "python",
   "name": "python3"
  },
  "language_info": {
   "codemirror_mode": {
    "name": "ipython",
    "version": 3
   },
   "file_extension": ".py",
   "mimetype": "text/x-python",
   "name": "python",
   "nbconvert_exporter": "python",
   "pygments_lexer": "ipython3",
   "version": "3.9.12"
  }
 },
 "nbformat": 4,
 "nbformat_minor": 5
}
