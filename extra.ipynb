{
 "cells": [
  {
   "cell_type": "code",
   "execution_count": 1,
   "id": "45b7286c",
   "metadata": {},
   "outputs": [
    {
     "data": {
      "text/plain": [
       "'mudit'"
      ]
     },
     "execution_count": 1,
     "metadata": {},
     "output_type": "execute_result"
    }
   ],
   "source": [
    "'mudit'"
   ]
  },
  {
   "cell_type": "code",
   "execution_count": 2,
   "id": "f9d67ab6",
   "metadata": {},
   "outputs": [
    {
     "data": {
      "text/plain": [
       "8"
      ]
     },
     "execution_count": 2,
     "metadata": {},
     "output_type": "execute_result"
    }
   ],
   "source": [
    "4*2"
   ]
  },
  {
   "cell_type": "code",
   "execution_count": 3,
   "id": "f076578b",
   "metadata": {},
   "outputs": [
    {
     "data": {
      "text/plain": [
       "'2 X 3 = 6'"
      ]
     },
     "execution_count": 3,
     "metadata": {},
     "output_type": "execute_result"
    }
   ],
   "source": [
    "f'{2} X {3} = {2*3}'"
   ]
  },
  {
   "cell_type": "code",
   "execution_count": null,
   "id": "c6b20e57",
   "metadata": {},
   "outputs": [],
   "source": []
  }
 ],
 "metadata": {
  "kernelspec": {
   "display_name": "Python 3 (ipykernel)",
   "language": "python",
   "name": "python3"
  },
  "language_info": {
   "codemirror_mode": {
    "name": "ipython",
    "version": 3
   },
   "file_extension": ".py",
   "mimetype": "text/x-python",
   "name": "python",
   "nbconvert_exporter": "python",
   "pygments_lexer": "ipython3",
   "version": "3.9.12"
  }
 },
 "nbformat": 4,
 "nbformat_minor": 5
}
